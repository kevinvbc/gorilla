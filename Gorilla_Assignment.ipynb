{
  "nbformat": 4,
  "nbformat_minor": 0,
  "metadata": {
    "colab": {
      "provenance": [],
      "authorship_tag": "ABX9TyOGE57bFxoWbyjJMlabTe9s",
      "include_colab_link": true
    },
    "kernelspec": {
      "name": "python3",
      "display_name": "Python 3"
    },
    "language_info": {
      "name": "python"
    }
  },
  "cells": [
    {
      "cell_type": "markdown",
      "metadata": {
        "id": "view-in-github",
        "colab_type": "text"
      },
      "source": [
        "<a href=\"https://colab.research.google.com/github/kevinvbc/gorilla/blob/main/Gorilla_Assignment.ipynb\" target=\"_parent\"><img src=\"https://colab.research.google.com/assets/colab-badge.svg\" alt=\"Open In Colab\"/></a>"
      ]
    },
    {
      "cell_type": "markdown",
      "source": [
        "## Gorilla Data Engineer Assignment"
      ],
      "metadata": {
        "id": "omILmQINp1Fl"
      }
    },
    {
      "cell_type": "code",
      "source": [],
      "metadata": {
        "id": "A4w9iJ8_qAMq"
      },
      "execution_count": null,
      "outputs": []
    }
  ]
}